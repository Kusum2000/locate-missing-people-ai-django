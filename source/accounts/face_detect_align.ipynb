{
 "cells": [
  {
   "cell_type": "code",
   "execution_count": null,
   "metadata": {},
   "outputs": [
    {
     "name": "stderr",
     "output_type": "stream",
     "text": [
      "d:\\Anaconda3\\envs\\gpu_enabled\\lib\\site-packages\\mtcnn\\mtcnn.py:206: SyntaxWarning: \"is\" with a literal. Did you mean \"==\"?\n",
      "  if method is 'Min':\n",
      "d:\\Anaconda3\\envs\\gpu_enabled\\lib\\site-packages\\mtcnn\\mtcnn.py:206: SyntaxWarning: \"is\" with a literal. Did you mean \"==\"?\n",
      "  if method is 'Min':\n",
      "d:\\Anaconda3\\envs\\gpu_enabled\\lib\\site-packages\\mtcnn\\mtcnn.py:206: SyntaxWarning: \"is\" with a literal. Did you mean \"==\"?\n",
      "  if method is 'Min':\n",
      "d:\\Anaconda3\\envs\\gpu_enabled\\lib\\site-packages\\mtcnn\\mtcnn.py:206: SyntaxWarning: \"is\" with a literal. Did you mean \"==\"?\n",
      "  if method is 'Min':\n"
     ]
    },
    {
     "ename": "KeyboardInterrupt",
     "evalue": "",
     "output_type": "error",
     "traceback": [
      "\u001b[1;31m---------------------------------------------------------------------------\u001b[0m",
      "\u001b[1;31mKeyboardInterrupt\u001b[0m                         Traceback (most recent call last)",
      "\u001b[1;32md:\\ISE\\final_year_project\\simple-django-login-and-register\\source\\accounts\\face_detect_align.ipynb Cell 1'\u001b[0m in \u001b[0;36m<cell line: 10>\u001b[1;34m()\u001b[0m\n\u001b[0;32m      <a href='vscode-notebook-cell:/d%3A/ISE/final_year_project/simple-django-login-and-register/source/accounts/face_detect_align.ipynb#ch0000000?line=7'>8</a>\u001b[0m detector \u001b[39m=\u001b[39m MTCNN()\n\u001b[0;32m      <a href='vscode-notebook-cell:/d%3A/ISE/final_year_project/simple-django-login-and-register/source/accounts/face_detect_align.ipynb#ch0000000?line=8'>9</a>\u001b[0m \u001b[39m# detect faces in the image\u001b[39;00m\n\u001b[1;32m---> <a href='vscode-notebook-cell:/d%3A/ISE/final_year_project/simple-django-login-and-register/source/accounts/face_detect_align.ipynb#ch0000000?line=9'>10</a>\u001b[0m faces \u001b[39m=\u001b[39m detector\u001b[39m.\u001b[39;49mdetect_faces(pixels)\n\u001b[0;32m     <a href='vscode-notebook-cell:/d%3A/ISE/final_year_project/simple-django-login-and-register/source/accounts/face_detect_align.ipynb#ch0000000?line=10'>11</a>\u001b[0m \u001b[39mfor\u001b[39;00m face \u001b[39min\u001b[39;00m faces:\n\u001b[0;32m     <a href='vscode-notebook-cell:/d%3A/ISE/final_year_project/simple-django-login-and-register/source/accounts/face_detect_align.ipynb#ch0000000?line=11'>12</a>\u001b[0m \t\u001b[39mprint\u001b[39m(face)\n",
      "File \u001b[1;32md:\\Anaconda3\\envs\\gpu_enabled\\lib\\site-packages\\mtcnn\\mtcnn.py:300\u001b[0m, in \u001b[0;36mMTCNN.detect_faces\u001b[1;34m(self, img)\u001b[0m\n\u001b[0;32m    <a href='file:///d%3A/Anaconda3/envs/gpu_enabled/lib/site-packages/mtcnn/mtcnn.py?line=297'>298</a>\u001b[0m \u001b[39m# We pipe here each of the stages\u001b[39;00m\n\u001b[0;32m    <a href='file:///d%3A/Anaconda3/envs/gpu_enabled/lib/site-packages/mtcnn/mtcnn.py?line=298'>299</a>\u001b[0m \u001b[39mfor\u001b[39;00m stage \u001b[39min\u001b[39;00m stages:\n\u001b[1;32m--> <a href='file:///d%3A/Anaconda3/envs/gpu_enabled/lib/site-packages/mtcnn/mtcnn.py?line=299'>300</a>\u001b[0m     result \u001b[39m=\u001b[39m stage(img, result[\u001b[39m0\u001b[39;49m], result[\u001b[39m1\u001b[39;49m])\n\u001b[0;32m    <a href='file:///d%3A/Anaconda3/envs/gpu_enabled/lib/site-packages/mtcnn/mtcnn.py?line=301'>302</a>\u001b[0m [total_boxes, points] \u001b[39m=\u001b[39m result\n\u001b[0;32m    <a href='file:///d%3A/Anaconda3/envs/gpu_enabled/lib/site-packages/mtcnn/mtcnn.py?line=303'>304</a>\u001b[0m bounding_boxes \u001b[39m=\u001b[39m []\n",
      "File \u001b[1;32md:\\Anaconda3\\envs\\gpu_enabled\\lib\\site-packages\\mtcnn\\mtcnn.py:342\u001b[0m, in \u001b[0;36mMTCNN.__stage1\u001b[1;34m(self, image, scales, stage_status)\u001b[0m\n\u001b[0;32m    <a href='file:///d%3A/Anaconda3/envs/gpu_enabled/lib/site-packages/mtcnn/mtcnn.py?line=338'>339</a>\u001b[0m img_x \u001b[39m=\u001b[39m np\u001b[39m.\u001b[39mexpand_dims(scaled_image, \u001b[39m0\u001b[39m)\n\u001b[0;32m    <a href='file:///d%3A/Anaconda3/envs/gpu_enabled/lib/site-packages/mtcnn/mtcnn.py?line=339'>340</a>\u001b[0m img_y \u001b[39m=\u001b[39m np\u001b[39m.\u001b[39mtranspose(img_x, (\u001b[39m0\u001b[39m, \u001b[39m2\u001b[39m, \u001b[39m1\u001b[39m, \u001b[39m3\u001b[39m))\n\u001b[1;32m--> <a href='file:///d%3A/Anaconda3/envs/gpu_enabled/lib/site-packages/mtcnn/mtcnn.py?line=341'>342</a>\u001b[0m out \u001b[39m=\u001b[39m \u001b[39mself\u001b[39;49m\u001b[39m.\u001b[39;49m_pnet\u001b[39m.\u001b[39;49mpredict(img_y)\n\u001b[0;32m    <a href='file:///d%3A/Anaconda3/envs/gpu_enabled/lib/site-packages/mtcnn/mtcnn.py?line=343'>344</a>\u001b[0m out0 \u001b[39m=\u001b[39m np\u001b[39m.\u001b[39mtranspose(out[\u001b[39m0\u001b[39m], (\u001b[39m0\u001b[39m, \u001b[39m2\u001b[39m, \u001b[39m1\u001b[39m, \u001b[39m3\u001b[39m))\n\u001b[0;32m    <a href='file:///d%3A/Anaconda3/envs/gpu_enabled/lib/site-packages/mtcnn/mtcnn.py?line=344'>345</a>\u001b[0m out1 \u001b[39m=\u001b[39m np\u001b[39m.\u001b[39mtranspose(out[\u001b[39m1\u001b[39m], (\u001b[39m0\u001b[39m, \u001b[39m2\u001b[39m, \u001b[39m1\u001b[39m, \u001b[39m3\u001b[39m))\n",
      "File \u001b[1;32md:\\Anaconda3\\envs\\gpu_enabled\\lib\\site-packages\\keras\\engine\\training.py:1751\u001b[0m, in \u001b[0;36mModel.predict\u001b[1;34m(self, x, batch_size, verbose, steps, callbacks, max_queue_size, workers, use_multiprocessing)\u001b[0m\n\u001b[0;32m   <a href='file:///d%3A/Anaconda3/envs/gpu_enabled/lib/site-packages/keras/engine/training.py?line=1748'>1749</a>\u001b[0m \u001b[39mfor\u001b[39;00m step \u001b[39min\u001b[39;00m data_handler\u001b[39m.\u001b[39msteps():\n\u001b[0;32m   <a href='file:///d%3A/Anaconda3/envs/gpu_enabled/lib/site-packages/keras/engine/training.py?line=1749'>1750</a>\u001b[0m   callbacks\u001b[39m.\u001b[39mon_predict_batch_begin(step)\n\u001b[1;32m-> <a href='file:///d%3A/Anaconda3/envs/gpu_enabled/lib/site-packages/keras/engine/training.py?line=1750'>1751</a>\u001b[0m   tmp_batch_outputs \u001b[39m=\u001b[39m \u001b[39mself\u001b[39;49m\u001b[39m.\u001b[39;49mpredict_function(iterator)\n\u001b[0;32m   <a href='file:///d%3A/Anaconda3/envs/gpu_enabled/lib/site-packages/keras/engine/training.py?line=1751'>1752</a>\u001b[0m   \u001b[39mif\u001b[39;00m data_handler\u001b[39m.\u001b[39mshould_sync:\n\u001b[0;32m   <a href='file:///d%3A/Anaconda3/envs/gpu_enabled/lib/site-packages/keras/engine/training.py?line=1752'>1753</a>\u001b[0m     context\u001b[39m.\u001b[39masync_wait()\n",
      "File \u001b[1;32md:\\Anaconda3\\envs\\gpu_enabled\\lib\\site-packages\\tensorflow\\python\\eager\\def_function.py:885\u001b[0m, in \u001b[0;36mFunction.__call__\u001b[1;34m(self, *args, **kwds)\u001b[0m\n\u001b[0;32m    <a href='file:///d%3A/Anaconda3/envs/gpu_enabled/lib/site-packages/tensorflow/python/eager/def_function.py?line=881'>882</a>\u001b[0m compiler \u001b[39m=\u001b[39m \u001b[39m\"\u001b[39m\u001b[39mxla\u001b[39m\u001b[39m\"\u001b[39m \u001b[39mif\u001b[39;00m \u001b[39mself\u001b[39m\u001b[39m.\u001b[39m_jit_compile \u001b[39melse\u001b[39;00m \u001b[39m\"\u001b[39m\u001b[39mnonXla\u001b[39m\u001b[39m\"\u001b[39m\n\u001b[0;32m    <a href='file:///d%3A/Anaconda3/envs/gpu_enabled/lib/site-packages/tensorflow/python/eager/def_function.py?line=883'>884</a>\u001b[0m \u001b[39mwith\u001b[39;00m OptionalXlaContext(\u001b[39mself\u001b[39m\u001b[39m.\u001b[39m_jit_compile):\n\u001b[1;32m--> <a href='file:///d%3A/Anaconda3/envs/gpu_enabled/lib/site-packages/tensorflow/python/eager/def_function.py?line=884'>885</a>\u001b[0m   result \u001b[39m=\u001b[39m \u001b[39mself\u001b[39m\u001b[39m.\u001b[39m_call(\u001b[39m*\u001b[39margs, \u001b[39m*\u001b[39m\u001b[39m*\u001b[39mkwds)\n\u001b[0;32m    <a href='file:///d%3A/Anaconda3/envs/gpu_enabled/lib/site-packages/tensorflow/python/eager/def_function.py?line=886'>887</a>\u001b[0m new_tracing_count \u001b[39m=\u001b[39m \u001b[39mself\u001b[39m\u001b[39m.\u001b[39mexperimental_get_tracing_count()\n\u001b[0;32m    <a href='file:///d%3A/Anaconda3/envs/gpu_enabled/lib/site-packages/tensorflow/python/eager/def_function.py?line=887'>888</a>\u001b[0m without_tracing \u001b[39m=\u001b[39m (tracing_count \u001b[39m==\u001b[39m new_tracing_count)\n",
      "File \u001b[1;32md:\\Anaconda3\\envs\\gpu_enabled\\lib\\site-packages\\tensorflow\\python\\eager\\def_function.py:956\u001b[0m, in \u001b[0;36mFunction._call\u001b[1;34m(self, *args, **kwds)\u001b[0m\n\u001b[0;32m    <a href='file:///d%3A/Anaconda3/envs/gpu_enabled/lib/site-packages/tensorflow/python/eager/def_function.py?line=951'>952</a>\u001b[0m   _, _, _, filtered_flat_args \u001b[39m=\u001b[39m \\\n\u001b[0;32m    <a href='file:///d%3A/Anaconda3/envs/gpu_enabled/lib/site-packages/tensorflow/python/eager/def_function.py?line=952'>953</a>\u001b[0m       \u001b[39mself\u001b[39m\u001b[39m.\u001b[39m_stateful_fn\u001b[39m.\u001b[39m_function_spec\u001b[39m.\u001b[39mcanonicalize_function_inputs(  \u001b[39m# pylint: disable=protected-access\u001b[39;00m\n\u001b[0;32m    <a href='file:///d%3A/Anaconda3/envs/gpu_enabled/lib/site-packages/tensorflow/python/eager/def_function.py?line=953'>954</a>\u001b[0m           \u001b[39m*\u001b[39margs, \u001b[39m*\u001b[39m\u001b[39m*\u001b[39mkwds)\n\u001b[0;32m    <a href='file:///d%3A/Anaconda3/envs/gpu_enabled/lib/site-packages/tensorflow/python/eager/def_function.py?line=954'>955</a>\u001b[0m   \u001b[39m# If we did not create any variables the trace we have is good enough.\u001b[39;00m\n\u001b[1;32m--> <a href='file:///d%3A/Anaconda3/envs/gpu_enabled/lib/site-packages/tensorflow/python/eager/def_function.py?line=955'>956</a>\u001b[0m   \u001b[39mreturn\u001b[39;00m \u001b[39mself\u001b[39;49m\u001b[39m.\u001b[39;49m_concrete_stateful_fn\u001b[39m.\u001b[39;49m_call_flat(\n\u001b[0;32m    <a href='file:///d%3A/Anaconda3/envs/gpu_enabled/lib/site-packages/tensorflow/python/eager/def_function.py?line=956'>957</a>\u001b[0m       filtered_flat_args, \u001b[39mself\u001b[39;49m\u001b[39m.\u001b[39;49m_concrete_stateful_fn\u001b[39m.\u001b[39;49mcaptured_inputs)  \u001b[39m# pylint: disable=protected-access\u001b[39;00m\n\u001b[0;32m    <a href='file:///d%3A/Anaconda3/envs/gpu_enabled/lib/site-packages/tensorflow/python/eager/def_function.py?line=958'>959</a>\u001b[0m \u001b[39mdef\u001b[39;00m \u001b[39mfn_with_cond\u001b[39m(inner_args, inner_kwds, inner_filtered_flat_args):\n\u001b[0;32m    <a href='file:///d%3A/Anaconda3/envs/gpu_enabled/lib/site-packages/tensorflow/python/eager/def_function.py?line=959'>960</a>\u001b[0m   \u001b[39m\"\"\"Conditionally runs initialization if it's needed.\"\"\"\u001b[39;00m\n",
      "File \u001b[1;32md:\\Anaconda3\\envs\\gpu_enabled\\lib\\site-packages\\tensorflow\\python\\eager\\function.py:1963\u001b[0m, in \u001b[0;36mConcreteFunction._call_flat\u001b[1;34m(self, args, captured_inputs, cancellation_manager)\u001b[0m\n\u001b[0;32m   <a href='file:///d%3A/Anaconda3/envs/gpu_enabled/lib/site-packages/tensorflow/python/eager/function.py?line=1958'>1959</a>\u001b[0m possible_gradient_type \u001b[39m=\u001b[39m gradients_util\u001b[39m.\u001b[39mPossibleTapeGradientTypes(args)\n\u001b[0;32m   <a href='file:///d%3A/Anaconda3/envs/gpu_enabled/lib/site-packages/tensorflow/python/eager/function.py?line=1959'>1960</a>\u001b[0m \u001b[39mif\u001b[39;00m (possible_gradient_type \u001b[39m==\u001b[39m gradients_util\u001b[39m.\u001b[39mPOSSIBLE_GRADIENT_TYPES_NONE\n\u001b[0;32m   <a href='file:///d%3A/Anaconda3/envs/gpu_enabled/lib/site-packages/tensorflow/python/eager/function.py?line=1960'>1961</a>\u001b[0m     \u001b[39mand\u001b[39;00m executing_eagerly):\n\u001b[0;32m   <a href='file:///d%3A/Anaconda3/envs/gpu_enabled/lib/site-packages/tensorflow/python/eager/function.py?line=1961'>1962</a>\u001b[0m   \u001b[39m# No tape is watching; skip to running the function.\u001b[39;00m\n\u001b[1;32m-> <a href='file:///d%3A/Anaconda3/envs/gpu_enabled/lib/site-packages/tensorflow/python/eager/function.py?line=1962'>1963</a>\u001b[0m   \u001b[39mreturn\u001b[39;00m \u001b[39mself\u001b[39m\u001b[39m.\u001b[39m_build_call_outputs(\u001b[39mself\u001b[39;49m\u001b[39m.\u001b[39;49m_inference_function\u001b[39m.\u001b[39;49mcall(\n\u001b[0;32m   <a href='file:///d%3A/Anaconda3/envs/gpu_enabled/lib/site-packages/tensorflow/python/eager/function.py?line=1963'>1964</a>\u001b[0m       ctx, args, cancellation_manager\u001b[39m=\u001b[39;49mcancellation_manager))\n\u001b[0;32m   <a href='file:///d%3A/Anaconda3/envs/gpu_enabled/lib/site-packages/tensorflow/python/eager/function.py?line=1964'>1965</a>\u001b[0m forward_backward \u001b[39m=\u001b[39m \u001b[39mself\u001b[39m\u001b[39m.\u001b[39m_select_forward_and_backward_functions(\n\u001b[0;32m   <a href='file:///d%3A/Anaconda3/envs/gpu_enabled/lib/site-packages/tensorflow/python/eager/function.py?line=1965'>1966</a>\u001b[0m     args,\n\u001b[0;32m   <a href='file:///d%3A/Anaconda3/envs/gpu_enabled/lib/site-packages/tensorflow/python/eager/function.py?line=1966'>1967</a>\u001b[0m     possible_gradient_type,\n\u001b[0;32m   <a href='file:///d%3A/Anaconda3/envs/gpu_enabled/lib/site-packages/tensorflow/python/eager/function.py?line=1967'>1968</a>\u001b[0m     executing_eagerly)\n\u001b[0;32m   <a href='file:///d%3A/Anaconda3/envs/gpu_enabled/lib/site-packages/tensorflow/python/eager/function.py?line=1968'>1969</a>\u001b[0m forward_function, args_with_tangents \u001b[39m=\u001b[39m forward_backward\u001b[39m.\u001b[39mforward()\n",
      "File \u001b[1;32md:\\Anaconda3\\envs\\gpu_enabled\\lib\\site-packages\\tensorflow\\python\\eager\\function.py:591\u001b[0m, in \u001b[0;36m_EagerDefinedFunction.call\u001b[1;34m(self, ctx, args, cancellation_manager)\u001b[0m\n\u001b[0;32m    <a href='file:///d%3A/Anaconda3/envs/gpu_enabled/lib/site-packages/tensorflow/python/eager/function.py?line=588'>589</a>\u001b[0m \u001b[39mwith\u001b[39;00m _InterpolateFunctionError(\u001b[39mself\u001b[39m):\n\u001b[0;32m    <a href='file:///d%3A/Anaconda3/envs/gpu_enabled/lib/site-packages/tensorflow/python/eager/function.py?line=589'>590</a>\u001b[0m   \u001b[39mif\u001b[39;00m cancellation_manager \u001b[39mis\u001b[39;00m \u001b[39mNone\u001b[39;00m:\n\u001b[1;32m--> <a href='file:///d%3A/Anaconda3/envs/gpu_enabled/lib/site-packages/tensorflow/python/eager/function.py?line=590'>591</a>\u001b[0m     outputs \u001b[39m=\u001b[39m execute\u001b[39m.\u001b[39;49mexecute(\n\u001b[0;32m    <a href='file:///d%3A/Anaconda3/envs/gpu_enabled/lib/site-packages/tensorflow/python/eager/function.py?line=591'>592</a>\u001b[0m         \u001b[39mstr\u001b[39;49m(\u001b[39mself\u001b[39;49m\u001b[39m.\u001b[39;49msignature\u001b[39m.\u001b[39;49mname),\n\u001b[0;32m    <a href='file:///d%3A/Anaconda3/envs/gpu_enabled/lib/site-packages/tensorflow/python/eager/function.py?line=592'>593</a>\u001b[0m         num_outputs\u001b[39m=\u001b[39;49m\u001b[39mself\u001b[39;49m\u001b[39m.\u001b[39;49m_num_outputs,\n\u001b[0;32m    <a href='file:///d%3A/Anaconda3/envs/gpu_enabled/lib/site-packages/tensorflow/python/eager/function.py?line=593'>594</a>\u001b[0m         inputs\u001b[39m=\u001b[39;49margs,\n\u001b[0;32m    <a href='file:///d%3A/Anaconda3/envs/gpu_enabled/lib/site-packages/tensorflow/python/eager/function.py?line=594'>595</a>\u001b[0m         attrs\u001b[39m=\u001b[39;49mattrs,\n\u001b[0;32m    <a href='file:///d%3A/Anaconda3/envs/gpu_enabled/lib/site-packages/tensorflow/python/eager/function.py?line=595'>596</a>\u001b[0m         ctx\u001b[39m=\u001b[39;49mctx)\n\u001b[0;32m    <a href='file:///d%3A/Anaconda3/envs/gpu_enabled/lib/site-packages/tensorflow/python/eager/function.py?line=596'>597</a>\u001b[0m   \u001b[39melse\u001b[39;00m:\n\u001b[0;32m    <a href='file:///d%3A/Anaconda3/envs/gpu_enabled/lib/site-packages/tensorflow/python/eager/function.py?line=597'>598</a>\u001b[0m     outputs \u001b[39m=\u001b[39m execute\u001b[39m.\u001b[39mexecute_with_cancellation(\n\u001b[0;32m    <a href='file:///d%3A/Anaconda3/envs/gpu_enabled/lib/site-packages/tensorflow/python/eager/function.py?line=598'>599</a>\u001b[0m         \u001b[39mstr\u001b[39m(\u001b[39mself\u001b[39m\u001b[39m.\u001b[39msignature\u001b[39m.\u001b[39mname),\n\u001b[0;32m    <a href='file:///d%3A/Anaconda3/envs/gpu_enabled/lib/site-packages/tensorflow/python/eager/function.py?line=599'>600</a>\u001b[0m         num_outputs\u001b[39m=\u001b[39m\u001b[39mself\u001b[39m\u001b[39m.\u001b[39m_num_outputs,\n\u001b[1;32m   (...)\u001b[0m\n\u001b[0;32m    <a href='file:///d%3A/Anaconda3/envs/gpu_enabled/lib/site-packages/tensorflow/python/eager/function.py?line=602'>603</a>\u001b[0m         ctx\u001b[39m=\u001b[39mctx,\n\u001b[0;32m    <a href='file:///d%3A/Anaconda3/envs/gpu_enabled/lib/site-packages/tensorflow/python/eager/function.py?line=603'>604</a>\u001b[0m         cancellation_manager\u001b[39m=\u001b[39mcancellation_manager)\n",
      "File \u001b[1;32md:\\Anaconda3\\envs\\gpu_enabled\\lib\\site-packages\\tensorflow\\python\\eager\\execute.py:59\u001b[0m, in \u001b[0;36mquick_execute\u001b[1;34m(op_name, num_outputs, inputs, attrs, ctx, name)\u001b[0m\n\u001b[0;32m     <a href='file:///d%3A/Anaconda3/envs/gpu_enabled/lib/site-packages/tensorflow/python/eager/execute.py?line=56'>57</a>\u001b[0m \u001b[39mtry\u001b[39;00m:\n\u001b[0;32m     <a href='file:///d%3A/Anaconda3/envs/gpu_enabled/lib/site-packages/tensorflow/python/eager/execute.py?line=57'>58</a>\u001b[0m   ctx\u001b[39m.\u001b[39mensure_initialized()\n\u001b[1;32m---> <a href='file:///d%3A/Anaconda3/envs/gpu_enabled/lib/site-packages/tensorflow/python/eager/execute.py?line=58'>59</a>\u001b[0m   tensors \u001b[39m=\u001b[39m pywrap_tfe\u001b[39m.\u001b[39;49mTFE_Py_Execute(ctx\u001b[39m.\u001b[39;49m_handle, device_name, op_name,\n\u001b[0;32m     <a href='file:///d%3A/Anaconda3/envs/gpu_enabled/lib/site-packages/tensorflow/python/eager/execute.py?line=59'>60</a>\u001b[0m                                       inputs, attrs, num_outputs)\n\u001b[0;32m     <a href='file:///d%3A/Anaconda3/envs/gpu_enabled/lib/site-packages/tensorflow/python/eager/execute.py?line=60'>61</a>\u001b[0m \u001b[39mexcept\u001b[39;00m core\u001b[39m.\u001b[39m_NotOkStatusException \u001b[39mas\u001b[39;00m e:\n\u001b[0;32m     <a href='file:///d%3A/Anaconda3/envs/gpu_enabled/lib/site-packages/tensorflow/python/eager/execute.py?line=61'>62</a>\u001b[0m   \u001b[39mif\u001b[39;00m name \u001b[39mis\u001b[39;00m \u001b[39mnot\u001b[39;00m \u001b[39mNone\u001b[39;00m:\n",
      "\u001b[1;31mKeyboardInterrupt\u001b[0m: "
     ]
    }
   ],
   "source": [
    "\n",
    "# face detection with mtcnn on a photograph\n",
    "from matplotlib import pyplot\n",
    "from mtcnn import MTCNN\n",
    "# load image from file\n",
    "filename = 'kusum_dp.jpg'\n",
    "pixels = pyplot.imread(filename)\n",
    "# create the detector, using default weights\n",
    "detector = MTCNN()\n",
    "# detect faces in the image\n",
    "faces = detector.detect_faces(pixels)\n",
    "for face in faces:\n",
    "\tprint(face)"
   ]
  },
  {
   "cell_type": "code",
   "execution_count": 4,
   "metadata": {},
   "outputs": [
    {
     "name": "stdout",
     "output_type": "stream",
     "text": [
      "2.6.0 2.6.0\n"
     ]
    }
   ],
   "source": [
    "import tensorflow\n",
    "import keras\n",
    "\n",
    "print(tensorflow.__version__, keras.__version__)"
   ]
  },
  {
   "cell_type": "code",
   "execution_count": null,
   "metadata": {},
   "outputs": [],
   "source": []
  }
 ],
 "metadata": {
  "interpreter": {
   "hash": "39a6de093090d1ffba0f4f82146e7e6dde8da8eff09a444968a8fba3b3d0ed85"
  },
  "kernelspec": {
   "display_name": "Python 3.9.12 ('gpu_enabled')",
   "language": "python",
   "name": "python3"
  },
  "language_info": {
   "codemirror_mode": {
    "name": "ipython",
    "version": 3
   },
   "file_extension": ".py",
   "mimetype": "text/x-python",
   "name": "python",
   "nbconvert_exporter": "python",
   "pygments_lexer": "ipython3",
   "version": "3.9.12"
  },
  "orig_nbformat": 4
 },
 "nbformat": 4,
 "nbformat_minor": 2
}
